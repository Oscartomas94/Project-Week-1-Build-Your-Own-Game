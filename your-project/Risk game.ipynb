{
 "cells": [
  {
   "cell_type": "code",
   "execution_count": 1,
   "metadata": {},
   "outputs": [
    {
     "ename": "SyntaxError",
     "evalue": "invalid syntax (<ipython-input-1-9a50b093eafd>, line 23)",
     "output_type": "error",
     "traceback": [
      "\u001b[1;36m  File \u001b[1;32m\"<ipython-input-1-9a50b093eafd>\"\u001b[1;36m, line \u001b[1;32m23\u001b[0m\n\u001b[1;33m    -----------------------------------------------------------------------\u001b[0m\n\u001b[1;37m                                                                           ^\u001b[0m\n\u001b[1;31mSyntaxError\u001b[0m\u001b[1;31m:\u001b[0m invalid syntax\n"
     ]
    }
   ],
   "source": [
    "\n",
    "while True:\n",
    "    try:\n",
    "        user_input = int(input(\"Enter your number: \"))\n",
    "        \n",
    "        break\n",
    "    except ValueError:\n",
    "        print(\"Hey, this is not a number. Try it again!\")\n",
    "        \n",
    "print(\"The game finished\")\n",
    "\n",
    "\n",
    "try:\n",
    "    n_ = int(n_territories)\n",
    "    if n_territories % 2 == 0:\n",
    "        print(\"No valid. Should be odd number\")\n",
    "        n_territories = 0\n",
    "    else:\n",
    "        print(\"Let's play \", int(n_territories), \" round/s.\")\n",
    "except ValueError:\n",
    "    print(\"To play \", n_territories, \" pay the version 2.0.\")\n",
    "    n_territories = 0\n",
    "\n",
    "-----------------------------------------------------------------------\n",
    "\n",
    "n_rounds = input(\"Rounds to play? (Hint: should be an odd number) >>>   \")\n",
    "try:\n",
    "    n_rounds = int(n_rounds)\n",
    "    if n_rounds % 2 == 0:\n",
    "        print(\"No valid. Should be odd number\")\n",
    "        n_rounds = 0\n",
    "    else:\n",
    "        print(\"Let's play \", int(n_rounds), \" round/s.\")\n",
    "except ValueError:\n",
    "    print(\"To play \", n_rounds, \" rounds no valid.\")\n",
    "    n_rounds = 0"
   ]
  },
  {
   "cell_type": "code",
   "execution_count": null,
   "metadata": {},
   "outputs": [],
   "source": [
    "import random\n",
    "dice1=dice_1()\n",
    "dice2=dice_2()\n",
    "district_list = ['POBLENOU', 'EIXAMPLE']\n",
    "\n",
    "#Perfect solution to deliver\n",
    "#First, let's define the districts to the two players:\n",
    "\n",
    "while True:\n",
    "    try:\n",
    "        district_a = str(input(\"Player 1, in which district do you want to start? >>> \")).upper()\n",
    "        if district_a in district_list:\n",
    "            while True:\n",
    "                district_b = str(input(\"Player 2, in which district do you want to start? >>> \")).upper()\n",
    "                if district_b in district_list:\n",
    "                    if district_a != district_b:\n",
    "                        break\n",
    "                    else:\n",
    "                        print(\"This district is already taken. Try the other\")\n",
    "                else:\n",
    "                    print(f\"The district {district_b} doesn't exists. Start choosing teams again \")\n",
    "                    continue\n",
    "            break\n",
    "        else:\n",
    "            print(f\"The district {district_a} doesn't exists. Please repeat again! \")\n",
    "            continue\n",
    "    except:\n",
    "        pass\n",
    "print(\"Let's start the first turn\")\n",
    "\n",
    "#Second, let's roll a dice:\n",
    "\n",
    "tries\n",
    "\n",
    "def dice_1():\n",
    "    dice1 = random.randint(1,6)\n",
    "    return dice1\n",
    "\n",
    "def dice_2():\n",
    "    dice2 = random.randint(1,6)\n",
    "    return dice2\n",
    "\n",
    "if dice1 > dice2:\n",
    "    print(dice1)\n",
    "    print(dice2)\n",
    "    print(\"Player1 won\")\n",
    "elif dice1 == dice2:\n",
    "    print(\"Tie\")\n",
    "else:\n",
    "    print(dice1)\n",
    "    print(dice2)\n",
    "    print(\"Player2 won\")\n",
    "\n",
    "\n",
    "\n",
    "#Last and the most important, let's join all together with the function (def main):\n",
    "\n",
    "def main()\n",
    "    renflvkd\n",
    "\n",
    "while input(\"Do you want to play again?Yes/No \") if again == \"Yes\"\n",
    "    vnfkldffn\n",
    "    \n",
    "if __name__ == \"__main__\"\n",
    "\n"
   ]
  },
  {
   "cell_type": "code",
   "execution_count": 15,
   "metadata": {},
   "outputs": [
    {
     "name": "stdout",
     "output_type": "stream",
     "text": [
      "Player 1, in which district do you want to start? >>> eixample\n",
      "Player 2, in which district do you want to start? >>> gracia\n",
      "The district GRACIA doesn't exists. Start choosing teams again \n",
      "Player 2, in which district do you want to start? >>> poblenou\n",
      "Let's start the first turn\n",
      "4\n",
      "6\n",
      "Player2 won\n"
     ]
    }
   ],
   "source": [
    "import random\n",
    "district_list = ['POBLENOU', 'EIXAMPLE']\n",
    "\n",
    "\n",
    "while True:\n",
    "    try:\n",
    "        district_a = str(input(\"Player 1, in which district do you want to start? >>> \")).upper()\n",
    "        if district_a in district_list:\n",
    "            while True:\n",
    "                district_b = str(input(\"Player 2, in which district do you want to start? >>> \")).upper()\n",
    "                if district_b in district_list:\n",
    "                    if district_a != district_b:\n",
    "                        break\n",
    "                    else:\n",
    "                        print(\"This district is already taken. Try the other\")\n",
    "                else:\n",
    "                    print(f\"The district {district_b} doesn't exists. Start choosing teams again \")\n",
    "                    continue\n",
    "            break\n",
    "        else:\n",
    "            print(f\"The district {district_a} doesn't exists. Please repeat again! \")\n",
    "            continue\n",
    "    except:\n",
    "        pass\n",
    "print(\"Let's start the first turn\")\n",
    "\n",
    "#Second, let's roll a dice:\n",
    " \n",
    "\n",
    "def dice_1():\n",
    "    dice1 = random.randint(1,6)\n",
    "    return dice1\n",
    "dice1=dice_1()\n",
    "\n",
    "def dice_2():\n",
    "    dice2 = random.randint(1,6)\n",
    "    return dice2\n",
    "dice2=dice_2()\n",
    "\n",
    "if dice1 > dice2:\n",
    "    print(dice1)\n",
    "    print(dice2)\n",
    "    print(\"Player1 won\")\n",
    "elif dice1 == dice2:\n",
    "    print(\"Tie\")\n",
    "else:\n",
    "    print(dice1)\n",
    "    print(dice2)\n",
    "    print(\"Player2 won\")\n",
    "\n"
   ]
  },
  {
   "cell_type": "code",
   "execution_count": null,
   "metadata": {},
   "outputs": [],
   "source": []
  },
  {
   "cell_type": "markdown",
   "metadata": {},
   "source": [
    "definir jugador1 y nombre"
   ]
  },
  {
   "cell_type": "code",
   "execution_count": null,
   "metadata": {},
   "outputs": [],
   "source": [
    "player1 = \"Oscar\"\n",
    "player2 = \"Guillem\""
   ]
  },
  {
   "cell_type": "code",
   "execution_count": null,
   "metadata": {},
   "outputs": [],
   "source": []
  },
  {
   "cell_type": "code",
   "execution_count": null,
   "metadata": {},
   "outputs": [],
   "source": []
  },
  {
   "cell_type": "markdown",
   "metadata": {},
   "source": [
    "definir número de victorias con las que empiezan a jugar"
   ]
  },
  {
   "cell_type": "code",
   "execution_count": 2,
   "metadata": {},
   "outputs": [],
   "source": [
    "player1_wins = 0\n",
    "player2_wins = 0"
   ]
  },
  {
   "cell_type": "code",
   "execution_count": null,
   "metadata": {},
   "outputs": [],
   "source": []
  },
  {
   "cell_type": "code",
   "execution_count": 4,
   "metadata": {},
   "outputs": [
    {
     "ename": "NameError",
     "evalue": "name 'dice_1' is not defined",
     "output_type": "error",
     "traceback": [
      "\u001b[1;31m---------------------------------------------------------------------------\u001b[0m",
      "\u001b[1;31mNameError\u001b[0m                                 Traceback (most recent call last)",
      "\u001b[1;32m<ipython-input-4-995354d7d0e5>\u001b[0m in \u001b[0;36m<module>\u001b[1;34m\u001b[0m\n\u001b[0;32m      1\u001b[0m \u001b[1;32mimport\u001b[0m \u001b[0mrandom\u001b[0m\u001b[1;33m\u001b[0m\u001b[1;33m\u001b[0m\u001b[0m\n\u001b[1;32m----> 2\u001b[1;33m \u001b[0mdice1\u001b[0m\u001b[1;33m=\u001b[0m\u001b[0mdice_1\u001b[0m\u001b[1;33m(\u001b[0m\u001b[1;33m)\u001b[0m\u001b[1;33m\u001b[0m\u001b[1;33m\u001b[0m\u001b[0m\n\u001b[0m\u001b[0;32m      3\u001b[0m \u001b[0mdice2\u001b[0m\u001b[1;33m=\u001b[0m\u001b[0mdice_2\u001b[0m\u001b[1;33m(\u001b[0m\u001b[1;33m)\u001b[0m\u001b[1;33m\u001b[0m\u001b[1;33m\u001b[0m\u001b[0m\n\u001b[0;32m      4\u001b[0m \u001b[0mtries\u001b[0m\u001b[1;33m\u001b[0m\u001b[1;33m\u001b[0m\u001b[0m\n\u001b[0;32m      5\u001b[0m \u001b[1;33m\u001b[0m\u001b[0m\n",
      "\u001b[1;31mNameError\u001b[0m: name 'dice_1' is not defined"
     ]
    }
   ],
   "source": [
    "import random\n",
    "dice1 = dice_1()\n",
    "dice2 = dice_2()\n",
    "tries\n",
    "\n",
    "def dice_1():\n",
    "    dice1 = random.randint(1,6)\n",
    "    return dice1\n",
    "\n",
    "def dice_2():\n",
    "    dice2 = random.randint(1,6)\n",
    "    return dice2\n",
    "\n",
    "if dice1 > dice2:\n",
    "    print(dice1)\n",
    "    print(dice2)\n",
    "    print(\"Player1 won\")\n",
    "elif dice1 == dice2:\n",
    "    print(\"Tie\")\n",
    "else:\n",
    "    print(dice1)\n",
    "    print(dice2)\n",
    "    print(\"Player2 won\")"
   ]
  },
  {
   "cell_type": "code",
   "execution_count": null,
   "metadata": {},
   "outputs": [],
   "source": [
    "for x in range(10):\n",
    "    if gandalf[x] > saruman[x]:\n",
    "        gandalf_wins += 1\n",
    "    elif gandalf[x] < saruman[x]:\n",
    "        saruman_wins += 1"
   ]
  },
  {
   "cell_type": "markdown",
   "metadata": {},
   "source": [
    "definir cuándo gana una partida cuando gana un territorio uno u otro jugador"
   ]
  },
  {
   "cell_type": "code",
   "execution_count": null,
   "metadata": {},
   "outputs": [],
   "source": [
    "if player1_dice > player2_dice:\n",
    "    print(\"player1 wins\")\n",
    "elif player1_dice < player2_dice:\n",
    "    print(\"player2 wins\")\n",
    "else:\n",
    "    Tirar otra vez\n",
    "    \n",
    "----------------------------------------\n",
    "\n",
    "if gandalf_wins > saruman_wins:\n",
    "    print(\"Gandalf wins\")\n",
    "elif gandalf_wins < saruman_wins:\n",
    "    print(\"Saruman wins\")\n",
    "else:\n",
    "    print(\"Tie\")"
   ]
  },
  {
   "cell_type": "code",
   "execution_count": null,
   "metadata": {},
   "outputs": [],
   "source": []
  },
  {
   "cell_type": "code",
   "execution_count": null,
   "metadata": {},
   "outputs": [],
   "source": []
  },
  {
   "cell_type": "markdown",
   "metadata": {},
   "source": [
    "definir cuando gana el juego un jugador o el otro"
   ]
  },
  {
   "cell_type": "code",
   "execution_count": null,
   "metadata": {},
   "outputs": [],
   "source": [
    "# This is in a row. We do not want this, not in a row.\n",
    "\n",
    "spells = 0\n",
    "\n",
    "while player1_wins !=3 and player2 !=3:\n",
    "    if player1_territories[spells] > player2_territories[spells]:\n",
    "        player1_wins += 1\n",
    "        while player1_wins in [1,2]:\n",
    "            spells += 1\n",
    "            if player1_territories[spells] > player2_territories[spells]:\n",
    "                spells += 1\n",
    "            else:\n",
    "                player1_wins = 0\n",
    "\n",
    "    elif player2_territories[spells] > player1_territories[spells]:\n",
    "        player2_wins += 1\n",
    "        while player2_wins in [1,2]:\n",
    "            spells += 1\n",
    "            if player2_territories[spells] > player1_territories[spells]:\n",
    "                spells += 1\n",
    "            else:\n",
    "                player2_wins = 0\n",
    "if player1_wins > player2_wins:\n",
    "    print(\"Well done\" + player1 + \"won\")\n",
    "else:\n",
    "    print(\"Great\" + player2 + \"won\")\n",
    "\n",
    "---------------------------------------------------    \n",
    "\n",
    "while gandalf_wins !=3 and saruman !=3:\n",
    "    if gandalf_power[spells] > saruman_power[spells]:\n",
    "        gandalf_wins += 1\n",
    "        while gandalf_wins in [1,2]:\n",
    "            spells += 1\n",
    "            if gandalf_power[spells] > saruman_power[spells]:\n",
    "                gandalf_wins += 1\n",
    "            else:\n",
    "                gandalf_wins = 0\n",
    "                \n",
    "    elif saruman_power[spells] > gandalf_power[spells]:\n",
    "        saruman_wins += 1\n",
    "        while saruman_wins in [1,2]:\n",
    "            spells += 1\n",
    "            if saruman_power[spells] > gandalf_power[spells]:\n",
    "                saruman_wins += 1\n",
    "            else:\n",
    "                saruman_wins = 0\n",
    "if gandalf_wins > saruman_wins:\n",
    "    print(\"Gandalf wins\")\n",
    "else:\n",
    "    print(\"Saruman wins\")"
   ]
  },
  {
   "cell_type": "code",
   "execution_count": null,
   "metadata": {},
   "outputs": [],
   "source": []
  },
  {
   "cell_type": "code",
   "execution_count": null,
   "metadata": {},
   "outputs": [],
   "source": [
    "player1 = []\n",
    "player2 = []\n",
    "while \n",
    "\n",
    "\n"
   ]
  },
  {
   "cell_type": "code",
   "execution_count": null,
   "metadata": {},
   "outputs": [],
   "source": []
  },
  {
   "cell_type": "code",
   "execution_count": null,
   "metadata": {},
   "outputs": [],
   "source": []
  },
  {
   "cell_type": "code",
   "execution_count": null,
   "metadata": {},
   "outputs": [],
   "source": []
  },
  {
   "cell_type": "code",
   "execution_count": null,
   "metadata": {},
   "outputs": [],
   "source": []
  },
  {
   "cell_type": "code",
   "execution_count": null,
   "metadata": {},
   "outputs": [],
   "source": []
  }
 ],
 "metadata": {
  "kernelspec": {
   "display_name": "Python 3",
   "language": "python",
   "name": "python3"
  },
  "language_info": {
   "codemirror_mode": {
    "name": "ipython",
    "version": 3
   },
   "file_extension": ".py",
   "mimetype": "text/x-python",
   "name": "python",
   "nbconvert_exporter": "python",
   "pygments_lexer": "ipython3",
   "version": "3.8.3"
  }
 },
 "nbformat": 4,
 "nbformat_minor": 4
}
