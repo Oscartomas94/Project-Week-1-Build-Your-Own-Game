{
 "cells": [
  {
   "cell_type": "markdown",
   "metadata": {},
   "source": [
    "# RISK GAME"
   ]
  },
  {
   "cell_type": "code",
   "execution_count": null,
   "metadata": {},
   "outputs": [],
   "source": []
  },
  {
   "cell_type": "code",
   "execution_count": null,
   "metadata": {},
   "outputs": [],
   "source": []
  },
  {
   "cell_type": "code",
   "execution_count": null,
   "metadata": {},
   "outputs": [],
   "source": []
  },
  {
   "cell_type": "code",
   "execution_count": 2,
   "metadata": {},
   "outputs": [
    {
     "name": "stdout",
     "output_type": "stream",
     "text": [
      "Hi Ironhackers, did you survive the first week? Cool!!! Honestly I didn't even believe in myself. But now, let's play Risk game to enjoy.\n",
      "We'll start with 2 districts:  ['POBLENOU', 'EIXAMPLE']\n",
      "Player 1, in which district do you want to start? >>> poblenou\n",
      "Player 2, in which district do you want to start? >>> eixample\n",
      "Let's start the Warcelona!\n",
      "The Player1 rolled the number... 3\n",
      "The Player2 rolled the number... 1\n",
      "Player1 conquered the Player2 district and WON the game.\n",
      "Do you want to play again? Type yes or no: no\n",
      "Thank you for playing Risk!!!!\n"
     ]
    }
   ],
   "source": [
    "import random\n",
    "import time\n",
    "\n",
    "district_list = ['POBLENOU', 'EIXAMPLE']\n",
    "wannaplay=True\n",
    "\n",
    "print(\"Hi Ironhackers, did you survive the first week? Cool!!! Honestly I didn't even believe in myself. But now, let's play Risk game to enjoy.\")\n",
    "print(\"We'll start with 2 districts: \", district_list)\n",
    "time.sleep(8)\n",
    "\n",
    "while wannaplay:\n",
    "    while True:\n",
    "        try:\n",
    "            district_a = str(input(\"Player 1, in which district do you want to start? >>> \")).upper()\n",
    "            if district_a in district_list:\n",
    "                while True:\n",
    "                    district_b = str(input(\"Player 2, in which district do you want to start? >>> \")).upper()\n",
    "                    if district_b in district_list:\n",
    "                        if district_a != district_b:\n",
    "                            break\n",
    "                        else:\n",
    "                            print(\"This district is already taken. Hint: try the other one.\")\n",
    "                    else:\n",
    "                        print(f\"The district {district_b} doesn't exist. Try choosing it again.\")\n",
    "                        continue\n",
    "                break\n",
    "            else:\n",
    "                print(f\"The district {district_a} doesn't exist in this game. Please, repeat again! \")\n",
    "                continue\n",
    "        except:\n",
    "            pass\n",
    "    print(\"Let's start the Warcelona!\")\n",
    "    time.sleep(5)\n",
    "\n",
    "    #Second, let's roll a dice:\n",
    "\n",
    "    def dice_1():\n",
    "        dice1 = random.randint(1,6)\n",
    "        return dice1\n",
    "    \n",
    "\n",
    "    def dice_2():\n",
    "        dice2 = random.randint(1,6)\n",
    "        return dice2\n",
    "    \n",
    "    while True:\n",
    "        dice1=dice_1()\n",
    "        dice2=dice_2()\n",
    "        if dice1 != dice2:\n",
    "            break\n",
    "        print(\"The Player1 rolled the number...\", dice1)\n",
    "        print(\"The Player2 rolled the number...\", dice2)\n",
    "        print(\"Tie!!! Let's roll again.\")\n",
    "\n",
    "    if dice1 > dice2:\n",
    "        print(\"The Player1 rolled the number...\", dice1)\n",
    "        print(\"The Player2 rolled the number...\", dice2)\n",
    "        time.sleep(2)\n",
    "        print(\"Player1 conquered the Player2 district and WON the game.\")\n",
    " \n",
    "    else:\n",
    "        print(\"The Player1 rolled the number...\", dice1)\n",
    "        print(\"The Player2 rolled the number...\", dice2)\n",
    "        time.sleep(2)\n",
    "        print(\"Player2 conquered the Player1 district and WON the game.\")\n",
    "        \n",
    "    again=str(input(\"Do you want to play again? Type yes or no: \"))\n",
    "    if again == \"no\":\n",
    "        wannaplay = False\n",
    "        \n",
    "print( 'Thank you for playing Risk!!!!')\n",
    "\n"
   ]
  },
  {
   "cell_type": "code",
   "execution_count": null,
   "metadata": {},
   "outputs": [],
   "source": []
  }
 ],
 "metadata": {
  "kernelspec": {
   "display_name": "Python 3",
   "language": "python",
   "name": "python3"
  },
  "language_info": {
   "codemirror_mode": {
    "name": "ipython",
    "version": 3
   },
   "file_extension": ".py",
   "mimetype": "text/x-python",
   "name": "python",
   "nbconvert_exporter": "python",
   "pygments_lexer": "ipython3",
   "version": "3.8.3"
  }
 },
 "nbformat": 4,
 "nbformat_minor": 4
}
