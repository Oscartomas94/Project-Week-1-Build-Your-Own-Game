{
 "cells": [
  {
   "cell_type": "code",
   "execution_count": 1,
   "metadata": {},
   "outputs": [],
   "source": [
    "def greetings(district_list):\n",
    "\n",
    "    district_list = ['POBLENOU', 'EIXAMPLE']\n",
    "    wannaplay=True\n",
    "    \n",
    "    print(\"Hi Ironhackers, did you survive the first week? Cool!!! Honestly I didn't even believe in myself. But now, let's play Risk game to enjoy.\")\n",
    "    print(\"We'll start with 2 districts: \", district_list)\n",
    "    time.sleep(8)"
   ]
  },
  {
   "cell_type": "code",
   "execution_count": null,
   "metadata": {},
   "outputs": [],
   "source": []
  }
 ],
 "metadata": {
  "kernelspec": {
   "display_name": "Python 3",
   "language": "python",
   "name": "python3"
  },
  "language_info": {
   "codemirror_mode": {
    "name": "ipython",
    "version": 3
   },
   "file_extension": ".py",
   "mimetype": "text/x-python",
   "name": "python",
   "nbconvert_exporter": "python",
   "pygments_lexer": "ipython3",
   "version": "3.8.3"
  }
 },
 "nbformat": 4,
 "nbformat_minor": 4
}
